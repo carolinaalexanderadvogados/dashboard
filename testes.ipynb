{
 "cells": [
  {
   "cell_type": "code",
   "execution_count": 20,
   "metadata": {},
   "outputs": [],
   "source": [
    "def converter_moeda(valor):\n",
    "    valor = float(valor.replace('R$', '').replace('.', '').replace(',', '.'))\n",
    "    return valor                  "
   ]
  },
  {
   "cell_type": "code",
   "execution_count": 27,
   "metadata": {},
   "outputs": [],
   "source": [
    "import pandas as pd\n",
    "\n",
    "financeiro = pd.read_csv(\"arquivos/Dashboard 2025 - Financeiro.csv\")\n",
    "\n",
    "filtro = financeiro[financeiro['Receitas'].notna() & (financeiro['Receitas'] != '')]\n",
    "filtro = filtro.sort_values(by='Data', ascending=False)"
   ]
  },
  {
   "cell_type": "code",
   "execution_count": 30,
   "metadata": {},
   "outputs": [],
   "source": [
    "colunas_monetarias = ['Receitas', 'Despesas', 'Caixa', 'Investimento Itaú', 'Conta Itaú']\n",
    "\n",
    "\n",
    "for coluna in colunas_monetarias:\n",
    "    filtro[coluna] = filtro[coluna].apply(converter_moeda)"
   ]
  },
  {
   "cell_type": "code",
   "execution_count": 31,
   "metadata": {},
   "outputs": [
    {
     "data": {
      "text/html": [
       "<div>\n",
       "<style scoped>\n",
       "    .dataframe tbody tr th:only-of-type {\n",
       "        vertical-align: middle;\n",
       "    }\n",
       "\n",
       "    .dataframe tbody tr th {\n",
       "        vertical-align: top;\n",
       "    }\n",
       "\n",
       "    .dataframe thead th {\n",
       "        text-align: right;\n",
       "    }\n",
       "</style>\n",
       "<table border=\"1\" class=\"dataframe\">\n",
       "  <thead>\n",
       "    <tr style=\"text-align: right;\">\n",
       "      <th></th>\n",
       "      <th>Data</th>\n",
       "      <th>Receitas</th>\n",
       "      <th>Despesas</th>\n",
       "      <th>Média Despesas 12 meses</th>\n",
       "      <th>Investimento Itaú</th>\n",
       "      <th>Conta Itaú</th>\n",
       "      <th>Caixa</th>\n",
       "      <th>Oxigênio Meses</th>\n",
       "    </tr>\n",
       "  </thead>\n",
       "  <tbody>\n",
       "    <tr>\n",
       "      <th>2</th>\n",
       "      <td>31/03/2025</td>\n",
       "      <td>215418.93</td>\n",
       "      <td>285756.90</td>\n",
       "      <td>R$ 229.441,45</td>\n",
       "      <td>104398.07</td>\n",
       "      <td>95213.50</td>\n",
       "      <td>199611.57</td>\n",
       "      <td>0,87</td>\n",
       "    </tr>\n",
       "    <tr>\n",
       "      <th>0</th>\n",
       "      <td>31/01/2025</td>\n",
       "      <td>531406.04</td>\n",
       "      <td>199312.40</td>\n",
       "      <td>R$ 199.312,40</td>\n",
       "      <td>221803.55</td>\n",
       "      <td>28752.16</td>\n",
       "      <td>250555.71</td>\n",
       "      <td>1,26</td>\n",
       "    </tr>\n",
       "    <tr>\n",
       "      <th>1</th>\n",
       "      <td>28/02/2025</td>\n",
       "      <td>237728.32</td>\n",
       "      <td>203255.06</td>\n",
       "      <td>R$ 201.283,73</td>\n",
       "      <td>158377.94</td>\n",
       "      <td>85568.44</td>\n",
       "      <td>243946.38</td>\n",
       "      <td>1,21</td>\n",
       "    </tr>\n",
       "  </tbody>\n",
       "</table>\n",
       "</div>"
      ],
      "text/plain": [
       "         Data   Receitas   Despesas Média Despesas 12 meses  \\\n",
       "2  31/03/2025  215418.93  285756.90           R$ 229.441,45   \n",
       "0  31/01/2025  531406.04  199312.40           R$ 199.312,40   \n",
       "1  28/02/2025  237728.32  203255.06           R$ 201.283,73   \n",
       "\n",
       "   Investimento Itaú  Conta Itaú      Caixa Oxigênio Meses  \n",
       "2          104398.07    95213.50  199611.57           0,87  \n",
       "0          221803.55    28752.16  250555.71           1,26  \n",
       "1          158377.94    85568.44  243946.38           1,21  "
      ]
     },
     "execution_count": 31,
     "metadata": {},
     "output_type": "execute_result"
    }
   ],
   "source": [
    "filtro"
   ]
  }
 ],
 "metadata": {
  "kernelspec": {
   "display_name": ".venv",
   "language": "python",
   "name": "python3"
  },
  "language_info": {
   "codemirror_mode": {
    "name": "ipython",
    "version": 3
   },
   "file_extension": ".py",
   "mimetype": "text/x-python",
   "name": "python",
   "nbconvert_exporter": "python",
   "pygments_lexer": "ipython3",
   "version": "3.13.2"
  }
 },
 "nbformat": 4,
 "nbformat_minor": 2
}
