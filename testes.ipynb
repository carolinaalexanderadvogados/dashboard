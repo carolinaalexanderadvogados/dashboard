{
 "cells": [
  {
   "cell_type": "code",
   "execution_count": 2,
   "metadata": {},
   "outputs": [
    {
     "data": {
      "text/html": [
       "<div>\n",
       "<style scoped>\n",
       "    .dataframe tbody tr th:only-of-type {\n",
       "        vertical-align: middle;\n",
       "    }\n",
       "\n",
       "    .dataframe tbody tr th {\n",
       "        vertical-align: top;\n",
       "    }\n",
       "\n",
       "    .dataframe thead th {\n",
       "        text-align: right;\n",
       "    }\n",
       "</style>\n",
       "<table border=\"1\" class=\"dataframe\">\n",
       "  <thead>\n",
       "    <tr style=\"text-align: right;\">\n",
       "      <th></th>\n",
       "      <th>Data</th>\n",
       "      <th>Receitas</th>\n",
       "      <th>Despesas</th>\n",
       "      <th>Média Despesas 12 meses</th>\n",
       "      <th>Investimento Itaú</th>\n",
       "      <th>Conta Itaú</th>\n",
       "      <th>Caixa</th>\n",
       "      <th>Oxigênio Meses</th>\n",
       "    </tr>\n",
       "  </thead>\n",
       "  <tbody>\n",
       "    <tr>\n",
       "      <th>2</th>\n",
       "      <td>31/03/2025</td>\n",
       "      <td>R$ 215.418,93</td>\n",
       "      <td>R$ 285.756,90</td>\n",
       "      <td>R$ 229.441,45</td>\n",
       "      <td>R$ 104.398,07</td>\n",
       "      <td>R$ 95.213,50</td>\n",
       "      <td>R$ 199.611,57</td>\n",
       "      <td>0,87</td>\n",
       "    </tr>\n",
       "    <tr>\n",
       "      <th>0</th>\n",
       "      <td>31/01/2025</td>\n",
       "      <td>R$ 531.406,04</td>\n",
       "      <td>R$ 199.312,40</td>\n",
       "      <td>R$ 199.312,40</td>\n",
       "      <td>R$ 221.803,55</td>\n",
       "      <td>R$ 28.752,16</td>\n",
       "      <td>R$ 250.555,71</td>\n",
       "      <td>1,26</td>\n",
       "    </tr>\n",
       "    <tr>\n",
       "      <th>1</th>\n",
       "      <td>28/02/2025</td>\n",
       "      <td>R$ 237.728,32</td>\n",
       "      <td>R$ 203.255,06</td>\n",
       "      <td>R$ 201.283,73</td>\n",
       "      <td>R$ 158.377,94</td>\n",
       "      <td>R$ 85.568,44</td>\n",
       "      <td>R$ 243.946,38</td>\n",
       "      <td>1,21</td>\n",
       "    </tr>\n",
       "  </tbody>\n",
       "</table>\n",
       "</div>"
      ],
      "text/plain": [
       "         Data       Receitas       Despesas Média Despesas 12 meses  \\\n",
       "2  31/03/2025  R$ 215.418,93  R$ 285.756,90           R$ 229.441,45   \n",
       "0  31/01/2025  R$ 531.406,04  R$ 199.312,40           R$ 199.312,40   \n",
       "1  28/02/2025  R$ 237.728,32  R$ 203.255,06           R$ 201.283,73   \n",
       "\n",
       "  Investimento Itaú    Conta Itaú          Caixa Oxigênio Meses  \n",
       "2     R$ 104.398,07  R$ 95.213,50  R$ 199.611,57           0,87  \n",
       "0     R$ 221.803,55  R$ 28.752,16  R$ 250.555,71           1,26  \n",
       "1     R$ 158.377,94  R$ 85.568,44  R$ 243.946,38           1,21  "
      ]
     },
     "execution_count": 2,
     "metadata": {},
     "output_type": "execute_result"
    }
   ],
   "source": [
    "import pandas as pd\n",
    "\n",
    "financeiro = pd.read_csv(\"arquivos/Dashboard 2025 - Financeiro.csv\")\n",
    "\n",
    "filtro = financeiro[financeiro['Receitas'].notna() & (financeiro['Receitas'] != '')]\n",
    "filtro = filtro.sort_values(by='Data', ascending=False)\n",
    "filtro"
   ]
  },
  {
   "cell_type": "code",
   "execution_count": 4,
   "metadata": {},
   "outputs": [
    {
     "data": {
      "text/plain": [
       "'31/03/2025'"
      ]
     },
     "execution_count": 4,
     "metadata": {},
     "output_type": "execute_result"
    }
   ],
   "source": [
    "data_mais_recente = filtro['Data'].max()\n",
    "data_mais_recente"
   ]
  }
 ],
 "metadata": {
  "kernelspec": {
   "display_name": ".venv",
   "language": "python",
   "name": "python3"
  },
  "language_info": {
   "codemirror_mode": {
    "name": "ipython",
    "version": 3
   },
   "file_extension": ".py",
   "mimetype": "text/x-python",
   "name": "python",
   "nbconvert_exporter": "python",
   "pygments_lexer": "ipython3",
   "version": "3.13.2"
  }
 },
 "nbformat": 4,
 "nbformat_minor": 2
}
